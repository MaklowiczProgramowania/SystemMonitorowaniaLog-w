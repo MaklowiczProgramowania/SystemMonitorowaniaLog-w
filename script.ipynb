{
 "cells": [
  {
   "cell_type": "code",
   "execution_count": 31,
   "metadata": {},
   "outputs": [],
   "source": [
    "import re\n",
    "log_file = 'logs1.log'"
   ]
  },
  {
   "cell_type": "code",
   "execution_count": null,
   "metadata": {},
   "outputs": [],
   "source": [
    "with open(log_file, 'r') as file:\n",
    "    for line in file:\n",
    "        lineInList = line.split(' ')\n",
    "        print(f\"Full: {line}\")"
   ]
  },
  {
   "cell_type": "code",
   "execution_count": 34,
   "metadata": {},
   "outputs": [
    {
     "name": "stdout",
     "output_type": "stream",
     "text": [
      "IP: 192.168.55.108\n",
      "Użytkownik: -\n",
      "Autoryzowany użytkownik: -\n",
      "Data i czas: 22/Oct/2024:09:10:00 +0000\n",
      "Metoda HTTP: GET\n",
      "URL: /\n",
      "Protokół: HTTP/1.1\n",
      "Status odpowiedzi: 200\n",
      "Wielkość odpowiedzi: 134 bajtów\n",
      "Referer: -\n",
      "User-Agent: Mozilla/5.0 (Windows NT 10.0; Win64; x64; rv:131.0) Gecko/20100101 Firefox/131.0\n",
      "--------------------------------------------\n",
      "IP: 192.168.55.108\n",
      "Użytkownik: -\n",
      "Autoryzowany użytkownik: -\n",
      "Data i czas: 22/Oct/2024:09:10:00 +0000\n",
      "Metoda HTTP: GET\n",
      "URL: /favicon.ico\n",
      "Protokół: HTTP/1.1\n",
      "Status odpowiedzi: 404\n",
      "Wielkość odpowiedzi: 134 bajtów\n",
      "Referer: http://192.168.55.159:81/\n",
      "User-Agent: Mozilla/5.0 (Windows NT 10.0; Win64; x64; rv:131.0) Gecko/20100101 Firefox/131.0\n",
      "--------------------------------------------\n",
      "IP: 192.168.55.108\n",
      "Użytkownik: -\n",
      "Autoryzowany użytkownik: -\n",
      "Data i czas: 22/Oct/2024:09:10:28 +0000\n",
      "Metoda HTTP: GET\n",
      "URL: /\n",
      "Protokół: HTTP/1.1\n",
      "Status odpowiedzi: 200\n",
      "Wielkość odpowiedzi: 134 bajtów\n",
      "Referer: -\n",
      "User-Agent: Mozilla/5.0 (Windows NT 10.0; Win64; x64; rv:131.0) Gecko/20100101 Firefox/131.0\n",
      "--------------------------------------------\n",
      "IP: 192.168.55.108\n",
      "Użytkownik: -\n",
      "Autoryzowany użytkownik: -\n",
      "Data i czas: 22/Oct/2024:09:10:28 +0000\n",
      "Metoda HTTP: GET\n",
      "URL: /favicon.ico\n",
      "Protokół: HTTP/1.1\n",
      "Status odpowiedzi: 404\n",
      "Wielkość odpowiedzi: 134 bajtów\n",
      "Referer: http://192.168.55.159:81/\n",
      "User-Agent: Mozilla/5.0 (Windows NT 10.0; Win64; x64; rv:131.0) Gecko/20100101 Firefox/131.0\n",
      "--------------------------------------------\n",
      "IP: 192.168.55.108\n",
      "Użytkownik: -\n",
      "Autoryzowany użytkownik: -\n",
      "Data i czas: 22/Oct/2024:09:10:28 +0000\n",
      "Metoda HTTP: GET\n",
      "URL: /\n",
      "Protokół: HTTP/1.1\n",
      "Status odpowiedzi: 304\n",
      "Wielkość odpowiedzi: 0 bajtów\n",
      "Referer: -\n",
      "User-Agent: Mozilla/5.0 (Windows NT 10.0; Win64; x64; rv:131.0) Gecko/20100101 Firefox/131.0\n",
      "--------------------------------------------\n"
     ]
    }
   ],
   "source": [
    "log_pattern = r'(?P<ip>\\d{1,3}(?:\\.\\d{1,3}){3}) (?P<user>\\S+) (?P<auth_user>\\S+) \\[(?P<datetime>[^\\]]+)\\] \"(?P<method>\\S+) (?P<url>\\S+) (?P<protocol>[^\"]+)\" (?P<status>\\d{3}) (?P<size>\\d+) \"(?P<referer>[^\"]*)\" \"(?P<user_agent>[^\"]+)\"'\n",
    "\n",
    "with open(log_file, 'r') as file:\n",
    "    for line in file:\n",
    "        match = re.match(log_pattern, line)\n",
    "        if match:\n",
    "            # Wyświetlenie poszczególnych elementów\n",
    "            print(f\"IP: {match.group('ip')}\")\n",
    "            print(f\"Użytkownik: {match.group('user')}\")\n",
    "            print(f\"Autoryzowany użytkownik: {match.group('auth_user')}\")\n",
    "            print(f\"Data i czas: {match.group('datetime')}\")\n",
    "            print(f\"Metoda HTTP: {match.group('method')}\")\n",
    "            print(f\"URL: {match.group('url')}\")\n",
    "            print(f\"Protokół: {match.group('protocol')}\")\n",
    "            print(f\"Status odpowiedzi: {match.group('status')}\")\n",
    "            print(f\"Wielkość odpowiedzi: {match.group('size')} bajtów\")\n",
    "            print(f\"Referer: {match.group('referer')}\")\n",
    "            print(f\"User-Agent: {match.group('user_agent')}\")\n",
    "            print(f\"--------------------------------------------\")\n",
    "        else:\n",
    "            print(\"Nie udało się dopasować logu.\")"
   ]
  }
 ],
 "metadata": {
  "kernelspec": {
   "display_name": "env",
   "language": "python",
   "name": "python3"
  },
  "language_info": {
   "codemirror_mode": {
    "name": "ipython",
    "version": 3
   },
   "file_extension": ".py",
   "mimetype": "text/x-python",
   "name": "python",
   "nbconvert_exporter": "python",
   "pygments_lexer": "ipython3",
   "version": "3.11.5"
  }
 },
 "nbformat": 4,
 "nbformat_minor": 2
}
